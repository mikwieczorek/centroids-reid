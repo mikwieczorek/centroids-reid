{
 "cells": [
  {
   "cell_type": "markdown",
   "metadata": {},
   "source": [
    "### Notebook to create a propoer data format to be fed to YOLO v3.\n",
    "### Notebook is adjusted to original Exact Street 2 Shop dataset"
   ]
  },
  {
   "cell_type": "code",
   "execution_count": 1,
   "metadata": {},
   "outputs": [],
   "source": [
    "import os\n",
    "import numpy as np\n",
    "import glob\n",
    "import json\n",
    "from PIL import Image, ImageDraw\n",
    "import visualize\n",
    "import pandas as pd"
   ]
  },
  {
   "cell_type": "code",
   "execution_count": 2,
   "metadata": {},
   "outputs": [],
   "source": [
    "def bbox_coco_to_corners(bbox):\n",
    "    # Input:\n",
    "    # [top_left_x, top_left_y, width, height]\n",
    "    # Output:\n",
    "    # [top_left_x, top_left_y, bottom_left_x, bottom_left_y]\n",
    "    bbox[0] = bbox[0]\n",
    "    bbox[1] = bbox[1]\n",
    "    bbox[2] = bbox[0] + bbox[2]\n",
    "    bbox[3] = bbox[1] + bbox[3]\n",
    "\n",
    "    return bbox\n",
    "\n",
    "\n",
    "def bbox_coco_to_center(bbox):\n",
    "    # Input:\n",
    "    # [top_left_x, top_left_y, width, height]\n",
    "    # Output:\n",
    "    # [x_center_of_bbox, y_center_of_bbox, width, height]\n",
    "    bbox[0] = bbox[0] + bbox[2] / 2\n",
    "    bbox[1] = bbox[1] + bbox[3] / 2\n",
    "    bbox[2] = bbox[2]\n",
    "    bbox[3] = bbox[3]\n",
    "\n",
    "    return bbox\n",
    "\n",
    "\n",
    "def bbox_center_to_yolo(bbox, width, height):\n",
    "    # Input:\n",
    "    # [x_center_of_bbox, y_center_of_bbox, width, height]\n",
    "    # Output:\n",
    "    # [x_center_of_bbox, y_center_of_bbox, width, height] / {image_width || image_height}\n",
    "    bbox[0] = bbox[0] / width\n",
    "    bbox[1] = bbox[1] / height\n",
    "    bbox[2] = bbox[2] / width\n",
    "    bbox[3] = bbox[3] / height\n",
    "\n",
    "    return bbox\n",
    "\n",
    "\n",
    "def bbox_yolo_to_center(bbox, width, height):\n",
    "    # Input:\n",
    "    # [x_center_of_bbox, y_center_of_bbox, width, height] / {image_width || image_height}\n",
    "    # Output:\n",
    "    # [x_center_of_bbox, y_center_of_bbox, width, height]\n",
    "    bbox[0] = bbox[0] * width\n",
    "    bbox[1] = bbox[1] * height\n",
    "    bbox[2] = bbox[2] * width\n",
    "    bbox[3] = bbox[3] * height\n",
    "\n",
    "    return bbox\n",
    "\n",
    "def bbox_center_to_coco(bbox):\n",
    "    # Input:\n",
    "    # [x_center_of_bbox, y_center_of_bbox, width, height]\n",
    "    # Output:\n",
    "    # [top_left_x, top_left_y, width, height]\n",
    "    bbox[0] = bbox[0] - bbox[2] / 2\n",
    "    bbox[1] = bbox[1] - bbox[3] / 2\n",
    "\n",
    "    return bbox\n",
    "\n",
    "def bbox_coco_to_yolo(bbox, width, height):\n",
    "    # Input:\n",
    "    # [top_left_x, top_left_y, width, height]\n",
    "    # Output:\n",
    "    # [x_center_of_bbox, y_center_of_bbox, width, height] / {image_width || image_height}\n",
    "    bbox = bbox_coco_to_center(bbox)\n",
    "    bbox = bbox_center_to_yolo(bbox, width, height)\n",
    "\n",
    "    return bbox\n",
    "\n",
    "def bbox_yolo_to_coco(bbox, width, height):\n",
    "    # Input:\n",
    "    # [x_center_of_bbox, y_center_of_bbox, width, height] / {image_width || image_height}\n",
    "    # Output:\n",
    "    # [top_left_x, top_left_y, width, height]\n",
    "    bbox = [float(item) for item in bbox]\n",
    "    bbox = bbox_yolo_to_center(bbox, width, height)\n",
    "    bbox = bbox_center_to_coco(bbox)\n",
    "    bbox = [int(item) for item in bbox]\n",
    "\n",
    "    return bbox\n",
    "\n",
    "def check_if_file_exist(path):\n",
    "    return os.path.isfile(path)\n",
    "\n",
    "def load_json(json_abs_path):\n",
    "    return json.load(open(json_abs_path))"
   ]
  },
  {
   "cell_type": "code",
   "execution_count": 3,
   "metadata": {},
   "outputs": [],
   "source": [
    "def remove_corrupted_imgs(working_dir, files):\n",
    "    from PIL import Image\n",
    "    for filename in files:\n",
    "        try:\n",
    "            img = Image.open(os.path.join(working_dir, filename)) # open the image file\n",
    "            img.verify()\n",
    "            cv2.imread((os.path.join(working_dir, filename))).shape\n",
    "        except:\n",
    "            print('Deleting ', filename)\n",
    "            os.system('rm {}'.format(os.path.join(working_dir, filename)))"
   ]
  },
  {
   "cell_type": "markdown",
   "metadata": {},
   "source": [
    "### Set paths and filesnames"
   ]
  },
  {
   "cell_type": "code",
   "execution_count": 4,
   "metadata": {},
   "outputs": [],
   "source": [
    "data_dir = '/home/mwieczorek/data/street2shop/meta'\n",
    "images_dir = '/home/mwieczorek/data/street2shop/images'\n",
    "save_dir = '/home/mwieczorek/data/street2shop'\n",
    "\n",
    "# train_filename = 'train_data.txt'\n",
    "# test_filename = 'test_data.txt'\n",
    "train_all_filename = 'street2shop_all_coco_format'"
   ]
  },
  {
   "cell_type": "markdown",
   "metadata": {},
   "source": [
    "#### Create a list of all  images files and their basenames"
   ]
  },
  {
   "cell_type": "code",
   "execution_count": 5,
   "metadata": {},
   "outputs": [],
   "source": [
    "all_images_list_names = list(map(lambda x : os.path.basename(x), list(glob.glob(os.path.join(images_dir, '*.jpg')))))\n",
    "# images_basenames = list(map(lambda x : x.rstrip('.jpg'), all_images_list_names))"
   ]
  },
  {
   "cell_type": "code",
   "execution_count": 6,
   "metadata": {},
   "outputs": [
    {
     "data": {
      "text/plain": [
       "'000402331.jpg'"
      ]
     },
     "execution_count": 6,
     "metadata": {},
     "output_type": "execute_result"
    }
   ],
   "source": [
    "all_images_list_names[0]"
   ]
  },
  {
   "cell_type": "code",
   "execution_count": 7,
   "metadata": {},
   "outputs": [],
   "source": [
    "working_dir = images_dir\n",
    "files = all_images_list_names"
   ]
  },
  {
   "cell_type": "code",
   "execution_count": 8,
   "metadata": {},
   "outputs": [],
   "source": [
    "# i = 0\n",
    "# j = 0"
   ]
  },
  {
   "cell_type": "code",
   "execution_count": 9,
   "metadata": {},
   "outputs": [],
   "source": [
    "# from PIL import Image\n",
    "# import cv2\n",
    "# for filename in files:\n",
    "#     filename\n",
    "#     try:\n",
    "#         img = Image.open(os.path.join(working_dir, filename)) # open the image file\n",
    "#         img.verify()\n",
    "#         cv2.imread((os.path.join(working_dir, filename))).shape\n",
    "#         j += 1\n",
    "#     except:\n",
    "#         i += 1\n",
    "# #         print('Deleting ', filename)\n",
    "#         os.system('rm {}'.format(os.path.join(working_dir, filename)))\n",
    "# #         print(os.path.join(working_dir, filename))"
   ]
  },
  {
   "cell_type": "code",
   "execution_count": 10,
   "metadata": {},
   "outputs": [],
   "source": [
    "# print(j, i)"
   ]
  },
  {
   "cell_type": "markdown",
   "metadata": {},
   "source": [
    "##### Number of correct images 381848. Number of deleted images: 41428"
   ]
  },
  {
   "cell_type": "markdown",
   "metadata": {},
   "source": [
    "#### Category name id map"
   ]
  },
  {
   "cell_type": "code",
   "execution_count": 11,
   "metadata": {},
   "outputs": [],
   "source": [
    "category_name_id_map = {\n",
    "    'bags': 0,\n",
    "    'belts' : 1,\n",
    "    'dresses' : 2,\n",
    "    'eyewear' : 3,\n",
    "    'footwear' : 4,\n",
    "    'hats' : 5,\n",
    "    'leggings' : 6,\n",
    "    'outerwear' : 7,\n",
    "    'pants' : 8,\n",
    "    'skirts' : 9,\n",
    "    'tops' : 10,\n",
    "\n",
    "}"
   ]
  },
  {
   "cell_type": "code",
   "execution_count": 12,
   "metadata": {},
   "outputs": [],
   "source": [
    "category_id_name_map = {v:k for k,v in category_name_id_map.items()}"
   ]
  },
  {
   "cell_type": "markdown",
   "metadata": {},
   "source": [
    "### Create images info"
   ]
  },
  {
   "cell_type": "code",
   "execution_count": 13,
   "metadata": {},
   "outputs": [],
   "source": [
    "def create_image_info(image_id, width, height, file_name, license=0, flickr_url='', coco_url='', data_captured=''):\n",
    "    image = {\n",
    "        \"id\": image_id,\n",
    "        \"file_name\": file_name,\n",
    "        \"width\": width,\n",
    "        \"height\": height,\n",
    "        \"license\": license,\n",
    "        \"flickr_url\": flickr_url,\n",
    "        \"coco_url\": coco_url,\n",
    "        \"date_captured\": data_captured\n",
    "    }\n",
    "\n",
    "    return image"
   ]
  },
  {
   "cell_type": "code",
   "execution_count": 14,
   "metadata": {},
   "outputs": [
    {
     "name": "stdout",
     "output_type": "stream",
     "text": [
      "Number of found images: 377120\n"
     ]
    }
   ],
   "source": [
    "all_images_paths = glob.glob(os.path.join(images_dir, '*.jpg'))\n",
    "print(f'Number of found images: {len(all_images_paths)}')"
   ]
  },
  {
   "cell_type": "code",
   "execution_count": 42,
   "metadata": {},
   "outputs": [
    {
     "name": "stderr",
     "output_type": "stream",
     "text": [
      "/home/mwieczorek/miniconda3/envs/visual_search/lib/python3.7/site-packages/PIL/Image.py:2735: DecompressionBombWarning: Image size (99272481 pixels) exceeds limit of 89478485 pixels, could be decompression bomb DOS attack.\n",
      "  DecompressionBombWarning,\n",
      "/home/mwieczorek/miniconda3/envs/visual_search/lib/python3.7/site-packages/PIL/Image.py:2735: DecompressionBombWarning: Image size (109820000 pixels) exceeds limit of 89478485 pixels, could be decompression bomb DOS attack.\n",
      "  DecompressionBombWarning,\n",
      "/home/mwieczorek/miniconda3/envs/visual_search/lib/python3.7/site-packages/PIL/Image.py:2735: DecompressionBombWarning: Image size (123871510 pixels) exceeds limit of 89478485 pixels, could be decompression bomb DOS attack.\n",
      "  DecompressionBombWarning,\n"
     ]
    }
   ],
   "source": [
    "all_image_info = []\n",
    "for image_path in all_images_paths:\n",
    "    file_name = os.path.basename(image_path)\n",
    "    img_id = int(file_name.strip('.jpg'))\n",
    "    \n",
    "    img = Image.open(image_path)\n",
    "    w, h = img.size\n",
    "    \n",
    "    all_image_info.append(create_image_info(image_id=img_id, width=w, height=h, file_name=file_name, license=0, flickr_url='', coco_url='', data_captured=''))"
   ]
  },
  {
   "cell_type": "code",
   "execution_count": 14,
   "metadata": {},
   "outputs": [],
   "source": [
    "# Load earlier processed images info\n",
    "all_image_info = load_json('./all_images_info.json')"
   ]
  },
  {
   "cell_type": "code",
   "execution_count": 15,
   "metadata": {},
   "outputs": [
    {
     "data": {
      "text/plain": [
       "377120"
      ]
     },
     "execution_count": 15,
     "metadata": {},
     "output_type": "execute_result"
    }
   ],
   "source": [
    "len(all_image_info)"
   ]
  },
  {
   "cell_type": "code",
   "execution_count": 16,
   "metadata": {},
   "outputs": [
    {
     "data": {
      "text/plain": [
       "[{'id': 204812,\n",
       "  'file_name': '000204812.jpg',\n",
       "  'width': 1920,\n",
       "  'height': 2240,\n",
       "  'license': 0,\n",
       "  'flickr_url': '',\n",
       "  'coco_url': '',\n",
       "  'date_captured': ''},\n",
       " {'id': 324219,\n",
       "  'file_name': '000324219.jpg',\n",
       "  'width': 2000,\n",
       "  'height': 2000,\n",
       "  'license': 0,\n",
       "  'flickr_url': '',\n",
       "  'coco_url': '',\n",
       "  'date_captured': ''},\n",
       " {'id': 173594,\n",
       "  'file_name': '000173594.jpg',\n",
       "  'width': 1920,\n",
       "  'height': 1440,\n",
       "  'license': 0,\n",
       "  'flickr_url': '',\n",
       "  'coco_url': '',\n",
       "  'date_captured': ''},\n",
       " {'id': 173616,\n",
       "  'file_name': '000173616.jpg',\n",
       "  'width': 1920,\n",
       "  'height': 1440,\n",
       "  'license': 0,\n",
       "  'flickr_url': '',\n",
       "  'coco_url': '',\n",
       "  'date_captured': ''},\n",
       " {'id': 137732,\n",
       "  'file_name': '000137732.jpg',\n",
       "  'width': 870,\n",
       "  'height': 1110,\n",
       "  'license': 0,\n",
       "  'flickr_url': '',\n",
       "  'coco_url': '',\n",
       "  'date_captured': ''}]"
      ]
     },
     "execution_count": 16,
     "metadata": {},
     "output_type": "execute_result"
    }
   ],
   "source": [
    "all_image_info[:5]"
   ]
  },
  {
   "cell_type": "markdown",
   "metadata": {},
   "source": [
    "# Single category at once"
   ]
  },
  {
   "cell_type": "code",
   "execution_count": 17,
   "metadata": {},
   "outputs": [],
   "source": [
    "def create_annotations(anno_id, image_id, category_id, bbox='', pair_id='', style='', segmentation='', area=0, iscrowd=0):\n",
    "    annotation = {\n",
    "        \"id\": anno_id,\n",
    "        \"image_id\": image_id,\n",
    "        \"category_id\": category_id,\n",
    "        \"segmentation\": segmentation,\n",
    "        \"area\": area,\n",
    "        \"bbox\": bbox,\n",
    "        \"iscrowd\": iscrowd,\n",
    "        \"pair_id\": pair_id,\n",
    "        \"style\": style\n",
    "    }\n",
    "    \n",
    "    return annotation"
   ]
  },
  {
   "cell_type": "code",
   "execution_count": 20,
   "metadata": {},
   "outputs": [],
   "source": [
    "anno_id = 0\n",
    "all_annos = []\n",
    "\n",
    "category_name = 'tops'\n",
    "idx = 98\n",
    "style_idx = idx + 1\n",
    "\n",
    "train_json = load_json(os.path.join(data_dir,f'train_pairs_{category_name}.json'))\n",
    "test_json = load_json(os.path.join(data_dir,f'test_pairs_{category_name}.json'))\n",
    "retrival_json = load_json(os.path.join(data_dir,f'retrieval_{category_name}.json'))\n",
    "\n",
    "#     retrival_dict_inverse = [{v:k for k,v in item.items()} for item in retrival_json]\n",
    "# pair_id_mapping = category_name_product_id_unique_pair_id_map[category_name]"
   ]
  },
  {
   "cell_type": "code",
   "execution_count": 21,
   "metadata": {},
   "outputs": [],
   "source": [
    "#### Try to create a unique pair_id from products and their photos\n",
    "unique_pair_id = 1\n",
    "single_category_map_dict = {}\n",
    "\n",
    "retrival_json = load_json(os.path.join(data_dir,f'retrieval_{category_name}.json'))\n",
    "\n",
    "for item in retrival_json:\n",
    "    photo_id = item['photo']\n",
    "    product_id = item['product']\n",
    "\n",
    "#     all_shop_products_image_ids.append(photo_id)\n",
    "\n",
    "    exists = single_category_map_dict.get(product_id, None)\n",
    "\n",
    "    if exists is None:\n",
    "        single_category_map_dict[product_id] = unique_pair_id  # Product_id -> unique pair_id\n",
    "        unique_pair_id += 1\n",
    "    else:\n",
    "        continue"
   ]
  },
  {
   "cell_type": "code",
   "execution_count": 22,
   "metadata": {},
   "outputs": [
    {
     "data": {
      "text/plain": [
       "38946"
      ]
     },
     "execution_count": 22,
     "metadata": {},
     "output_type": "execute_result"
    }
   ],
   "source": [
    "max(list(single_category_map_dict.keys()))"
   ]
  },
  {
   "cell_type": "code",
   "execution_count": 23,
   "metadata": {},
   "outputs": [
    {
     "data": {
      "text/plain": [
       "[{'photo': 17399,\n",
       "  'product': 9316,\n",
       "  'bbox': {'width': 751, 'top': 887, 'left': 682, 'height': 772}},\n",
       " {'photo': 134,\n",
       "  'product': 12579,\n",
       "  'bbox': {'width': 526, 'top': 1260, 'left': 879, 'height': 1175}}]"
      ]
     },
     "execution_count": 23,
     "metadata": {},
     "output_type": "execute_result"
    }
   ],
   "source": [
    "train_json[:2]"
   ]
  },
  {
   "cell_type": "code",
   "execution_count": 26,
   "metadata": {},
   "outputs": [
    {
     "data": {
      "text/plain": [
       "[{'photo': 132905, 'product': 1}, {'photo': 158548, 'product': 2}]"
      ]
     },
     "execution_count": 26,
     "metadata": {},
     "output_type": "execute_result"
    }
   ],
   "source": [
    "retrival_json[:2]"
   ]
  },
  {
   "cell_type": "code",
   "execution_count": 28,
   "metadata": {},
   "outputs": [],
   "source": [
    "retrival_json_inverse_map = {item['product']:item['photo']  for item in retrival_json}"
   ]
  },
  {
   "cell_type": "code",
   "execution_count": 36,
   "metadata": {},
   "outputs": [
    {
     "name": "stdout",
     "output_type": "stream",
     "text": [
      "{'photo': 90071, 'product': 9316}\n",
      "{'photo': 90072, 'product': 9316}\n",
      "{'photo': 90073, 'product': 9316}\n",
      "{'photo': 90074, 'product': 9316}\n"
     ]
    },
    {
     "data": {
      "text/plain": [
       "[None, None, None, None]"
      ]
     },
     "execution_count": 36,
     "metadata": {},
     "output_type": "execute_result"
    }
   ],
   "source": [
    "[print(item) for item in retrival_json if item['product'] == 9316]"
   ]
  },
  {
   "cell_type": "code",
   "execution_count": 30,
   "metadata": {},
   "outputs": [],
   "source": [
    "for item in train_json:\n",
    "    photo_id = item.get('photo')\n",
    "    bbox_temp = item.get('bbox')\n",
    "    bbox = [bbox_temp['left'], bbox_temp['top'], bbox_temp['width'], bbox_temp['height']]\n",
    "\n",
    "    product_id = item['product']\n",
    "#         pair_id = retrival_json[product_id+1]['photo']  # Products ids are sorted in a list, but they start from 1 not from 0.  # This completly wrong, as based on false assumption\n",
    "    pair_id = retrival_json_inverse_map[int(product_id)]\n",
    "#     pair_id = pair_id_mapping[product_id]\n",
    "\n",
    "    all_annos.append(create_annotations(anno_id=anno_id, image_id=photo_id, category_id=idx, bbox=bbox, pair_id=pair_id, style=style_idx))\n",
    "    anno_id += 1"
   ]
  },
  {
   "cell_type": "code",
   "execution_count": 32,
   "metadata": {},
   "outputs": [
    {
     "data": {
      "text/plain": [
       "[{'id': 0,\n",
       "  'image_id': 17399,\n",
       "  'category_id': 98,\n",
       "  'segmentation': '',\n",
       "  'area': 0,\n",
       "  'bbox': [682, 887, 751, 772],\n",
       "  'iscrowd': 0,\n",
       "  'pair_id': 90074,\n",
       "  'style': 99},\n",
       " {'id': 1,\n",
       "  'image_id': 134,\n",
       "  'category_id': 98,\n",
       "  'segmentation': '',\n",
       "  'area': 0,\n",
       "  'bbox': [879, 1260, 526, 1175],\n",
       "  'iscrowd': 0,\n",
       "  'pair_id': 63067,\n",
       "  'style': 99}]"
      ]
     },
     "execution_count": 32,
     "metadata": {},
     "output_type": "execute_result"
    }
   ],
   "source": [
    "all_annos[:2]"
   ]
  },
  {
   "cell_type": "code",
   "execution_count": null,
   "metadata": {},
   "outputs": [],
   "source": [
    "for item in test_json:\n",
    "    photo_id = item.get('photo')\n",
    "    bbox_temp = item.get('bbox')\n",
    "    bbox = [bbox_temp['left'], bbox_temp['top'], bbox_temp['width'], bbox_temp['height']]\n",
    "\n",
    "    product_id = item['product']\n",
    "#         pair_id = retrival_json[product_id+1]['photo']  # Products ids are sorted in a list, but they start from 1 not from 0.\n",
    "    pair_id = pair_id_mapping[product_id]\n",
    "\n",
    "    all_annos.append(create_annotations(anno_id=anno_id, image_id=photo_id, category_id=idx, bbox=bbox, pair_id=pair_id, style=style_idx))\n",
    "    anno_id += 1\n",
    "\n",
    "#     break"
   ]
  },
  {
   "cell_type": "markdown",
   "metadata": {},
   "source": [
    "# Single category at once end ^^^\n",
    "### =============================================="
   ]
  },
  {
   "cell_type": "markdown",
   "metadata": {},
   "source": [
    "# All categories at once"
   ]
  },
  {
   "cell_type": "markdown",
   "metadata": {},
   "source": [
    "#### How to solve unique product ids (from retrival jsons) that are only unique WITHIN a category, but not globally.\n",
    "## All steps are for a single category\n",
    "1. Take train json \n",
    "2. Take retrival file\n",
    "3. From train:\n",
    "    photo is just an int of file_name\n",
    "    produt is product id which is a pair_id. Problem: It is uniue only within a category\n",
    "        Product needes to be remaped using retrival json so that the pair_id == photo id of a product.\n",
    "        Moreove style number should also be given >=1\n",
    "            For now, the style number will be probably done as (category_id + 1) so to ensure that if \n",
    "            on one photo there are more than 1 product they should have unique style ids"
   ]
  },
  {
   "cell_type": "code",
   "execution_count": 47,
   "metadata": {},
   "outputs": [],
   "source": [
    "train_jsons_list = sorted(glob.glob(os.path.join(data_dir, 'train_*.json')))"
   ]
  },
  {
   "cell_type": "code",
   "execution_count": 48,
   "metadata": {},
   "outputs": [
    {
     "data": {
      "text/plain": [
       "{'photo': 7028,\n",
       " 'product': 7697,\n",
       " 'bbox': {'width': 545, 'top': 1595, 'height': 690, 'left': 70}}"
      ]
     },
     "execution_count": 48,
     "metadata": {},
     "output_type": "execute_result"
    }
   ],
   "source": [
    "load_json(train_jsons_list[0])[10]"
   ]
  },
  {
   "cell_type": "code",
   "execution_count": 77,
   "metadata": {},
   "outputs": [],
   "source": [
    "def create_annotations(anno_id, image_id, category_id, bbox='', pair_id='', style='', segmentation='', area=0, iscrowd=0):\n",
    "    annotation = {\n",
    "        \"id\": anno_id,\n",
    "        \"image_id\": image_id,\n",
    "        \"category_id\": category_id,\n",
    "        \"segmentation\": segmentation,\n",
    "        \"area\": area,\n",
    "        \"bbox\": bbox,\n",
    "        \"iscrowd\": iscrowd,\n",
    "        \"pair_id\": pair_id,\n",
    "        \"style\": style\n",
    "    }\n",
    "    \n",
    "    return annotation"
   ]
  },
  {
   "cell_type": "code",
   "execution_count": 78,
   "metadata": {},
   "outputs": [
    {
     "name": "stdout",
     "output_type": "stream",
     "text": [
      "bags\n",
      "belts\n",
      "dresses\n",
      "eyewear\n",
      "footwear\n",
      "hats\n",
      "leggings\n",
      "outerwear\n",
      "pants\n",
      "skirts\n",
      "tops\n"
     ]
    }
   ],
   "source": [
    "### Create pair_ids map to map ALL products to a single unique pair_id\n",
    "\n",
    "category_name_product_id_unique_pair_id_map = {}\n",
    "all_shop_products_image_ids = []\n",
    "\n",
    "unique_pair_id = 1\n",
    "for idx, category_name in enumerate(category_name_id_map):\n",
    "    print(category_name)\n",
    "    single_category_map_dict = {}\n",
    "    \n",
    "    retrival_json = load_json(os.path.join(data_dir,f'retrieval_{category_name}.json'))\n",
    "    \n",
    "    for item in retrival_json:\n",
    "        photo_id = item['photo']\n",
    "        product_id = item['product']\n",
    "        \n",
    "        all_shop_products_image_ids.append(photo_id)\n",
    "        \n",
    "        exists = single_category_map_dict.get(product_id, None)\n",
    "        \n",
    "        if exists is None:\n",
    "            single_category_map_dict[product_id] = unique_pair_id\n",
    "            unique_pair_id += 1\n",
    "        else:\n",
    "            continue\n",
    "        \n",
    "    category_name_product_id_unique_pair_id_map[category_name] = single_category_map_dict"
   ]
  },
  {
   "cell_type": "code",
   "execution_count": 79,
   "metadata": {},
   "outputs": [],
   "source": [
    "unique_pair_id_product_id_map = {}\n",
    "for idx, category_name in enumerate(category_name_id_map):\n",
    "    temp = category_name_product_id_unique_pair_id_map[category_name]\n",
    "    temp = {v:k for k,v in temp.items()}\n",
    "    unique_pair_id_product_id_map[category_name] = temp"
   ]
  },
  {
   "cell_type": "code",
   "execution_count": 80,
   "metadata": {},
   "outputs": [
    {
     "name": "stdout",
     "output_type": "stream",
     "text": [
      "[174488, 118459, 94045, 253790, 176630, 121392, 117011, 228594, 118278, 319652, 116745, 171751, 171750, 95565, 118437, 42920, 72432, 163831, 163845, 163857, 163856, 112083, 334499, 334501, 47755, 67524, 92483, 92482, 362886, 209393, 71402, 115808, 115414, 171197, 354390, 114563, 93518, 93517, 209302, 79996, 96123, 210269, 93107, 69963, 69964, 163937, 163836, 95549, 95548, 92275, 289636, 115842, 94666, 94667, 163717, 163666, 163665, 163661, 209297, 95263, 209350, 163971, 95769, 120737, 163753, 209887, 212148, 164064, 164055, 164060, 164058, 164059, 163868, 67642, 67641, 66385, 192763, 192769, 116066, 194051, 194053, 334091, 163911, 163908, 115427, 93547, 93545, 68815, 68817, 115291, 115292, 114803, 114625, 95361, 95218, 210559, 210558, 164850, 164854, 164844, 164849, 77059, 76265, 164154, 164155, 42919, 41159, 19176, 164050, 115159, 118514, 113854, 121088, 95638, 95639, 118843, 72210, 72211, 197185, 197186, 111464, 120212, 210449, 346760, 209286, 68131, 164237, 190899, 189768, 98423, 114255, 95369, 63005, 69175, 69174, 115783, 349070, 71951, 163721, 163722, 163732, 314809, 314811, 314839, 314794, 314834, 314804, 314799, 314824, 314792, 314803, 314777, 314852, 314843, 314801, 314858, 314841, 314848, 163741, 163734, 163738, 163739, 163743, 163735, 348913, 209406, 95563, 163646, 163982, 163979, 334843, 334842, 113922, 41160, 246666, 348889, 192307, 192305, 95869, 95976, 186065, 169802, 163912, 163910, 163907, 163905, 174388, 165678, 341336, 164877, 164880, 315520, 315251, 315487, 315319, 315451, 315481, 315239, 315252, 315414, 315408, 315307, 315404, 315501, 315439, 315474, 315452, 208500, 116999, 115149, 95674, 95893, 95891, 201663, 163776, 163784, 163777, 350889, 114772, 208460, 171420, 171419, 117381, 251649, 233934, 189176, 238999, 224194, 182405, 246164, 181881, 161421, 274040, 161328, 247400, 52413, 222216, 198367, 244910, 174037, 186102, 166568, 209438, 350369, 212447, 362252, 362253, 169503, 209269, 170671, 350303, 210752, 209513, 116313, 20317, 325898, 325896, 165702, 165705, 165740, 116135, 252028, 164312, 169125, 349169, 116618, 211943, 359527, 349934, 163694, 163695, 164590, 115782, 167990, 171235, 258199, 258200, 258201, 258202, 348733, 165665, 257896, 257898, 257900, 257902, 257903, 200822, 164602, 178758, 176141, 168372, 54941, 114343, 114120, 167432, 165694, 164606, 116322, 117791, 166810, 350074, 171329, 165977, 165974, 168623, 349596, 349557, 188571, 161034, 349606, 51811, 51810, 325407, 325408, 325409, 325410, 350510, 306058, 349597, 167262, 214925, 116537, 171788, 351202, 335409, 335729, 333145, 115006, 163601, 163676, 163618, 163607, 163605, 163610, 326133, 92811, 168844, 360625, 163630, 64695, 208656, 117618, 117823, 167183, 115735, 349691, 210861, 349031, 97091, 165073, 318911, 318931, 318915, 318939, 318909, 318873, 318929, 318916, 318942, 318920, 320634, 176737, 357848, 192879, 320116, 320085, 320081, 320096, 320084, 320121, 320115, 320100, 210119, 165214, 310998, 311012, 310999, 209490, 252120, 113301, 163993, 164168, 161184, 178879, 177682, 167083, 167079, 352056, 320889, 320953, 320948, 320955, 320979, 320885, 320891, 320915, 320977, 320716, 320756, 320712, 163806, 165064]\n"
     ]
    }
   ],
   "source": [
    "import collections\n",
    "print([item for item, count in collections.Counter(all_shop_products_image_ids).items() if count > 1])"
   ]
  },
  {
   "cell_type": "code",
   "execution_count": 81,
   "metadata": {},
   "outputs": [
    {
     "name": "stdout",
     "output_type": "stream",
     "text": [
      "bags {'photo': 94045, 'product': 775}\n",
      "bags {'photo': 94045, 'product': 1991}\n"
     ]
    }
   ],
   "source": [
    "for idx, category_name in enumerate(category_name_id_map):\n",
    "    \n",
    "    retrival_json = load_json(os.path.join(data_dir,f'retrieval_{category_name}.json'))\n",
    "    \n",
    "    for item in retrival_json:\n",
    "        if item['photo'] == 94045:\n",
    "            print(category_name, item)"
   ]
  },
  {
   "cell_type": "code",
   "execution_count": 82,
   "metadata": {},
   "outputs": [
    {
     "name": "stdout",
     "output_type": "stream",
     "text": [
      "bags {'photo': 94045, 'product': 1991}\n",
      "dresses {'photo': 233379, 'product': 1991}\n",
      "dresses {'photo': 233380, 'product': 1991}\n",
      "footwear {'photo': 203149, 'product': 1991}\n",
      "leggings {'photo': 209295, 'product': 1991}\n",
      "leggings {'photo': 209296, 'product': 1991}\n",
      "outerwear {'photo': 369330, 'product': 1991}\n",
      "outerwear {'photo': 369331, 'product': 1991}\n",
      "pants {'photo': 101384, 'product': 1991}\n",
      "pants {'photo': 101385, 'product': 1991}\n",
      "pants {'photo': 101387, 'product': 1991}\n",
      "pants {'photo': 101386, 'product': 1991}\n",
      "skirts {'photo': 132075, 'product': 1991}\n",
      "tops {'photo': 423295, 'product': 1991}\n"
     ]
    }
   ],
   "source": [
    "for idx, category_name in enumerate(category_name_id_map):\n",
    "    \n",
    "    retrival_json = load_json(os.path.join(data_dir,f'retrieval_{category_name}.json'))\n",
    "    \n",
    "    for item in retrival_json:\n",
    "        if item['product'] == 1991:\n",
    "            print(category_name, item)"
   ]
  },
  {
   "cell_type": "code",
   "execution_count": 83,
   "metadata": {},
   "outputs": [],
   "source": [
    "# category_name_product_id_unique_pair_id_map['tops']"
   ]
  },
  {
   "cell_type": "code",
   "execution_count": 84,
   "metadata": {},
   "outputs": [
    {
     "data": {
      "text/plain": [
       "204796"
      ]
     },
     "execution_count": 84,
     "metadata": {},
     "output_type": "execute_result"
    }
   ],
   "source": [
    "unique_pair_id"
   ]
  },
  {
   "cell_type": "code",
   "execution_count": 85,
   "metadata": {},
   "outputs": [
    {
     "name": "stdout",
     "output_type": "stream",
     "text": [
      "Number of all annotations from the original dataset: 39266\n"
     ]
    }
   ],
   "source": [
    "anno_id = 0\n",
    "all_annos = []\n",
    "\n",
    "for idx, category_name in enumerate(category_name_id_map):\n",
    "    style_idx = idx + 1\n",
    "    \n",
    "    train_json = load_json(os.path.join(data_dir,f'train_pairs_{category_name}.json'))\n",
    "    test_json = load_json(os.path.join(data_dir,f'test_pairs_{category_name}.json'))\n",
    "#     retrival_json = load_json(os.path.join(data_dir,f'retrieval_{category_name}.json'))\n",
    "    \n",
    "#     retrival_dict_inverse = [{v:k for k,v in item.items()} for item in retrival_json]\n",
    "    pair_id_mapping = category_name_product_id_unique_pair_id_map[category_name]\n",
    "    \n",
    "    for item in train_json:\n",
    "        photo_id = item.get('photo')\n",
    "        bbox_temp = item.get('bbox')\n",
    "        bbox = [bbox_temp['left'], bbox_temp['top'], bbox_temp['width'], bbox_temp['height']]\n",
    "        \n",
    "        product_id = item['product']\n",
    "#         pair_id = retrival_json[product_id+1]['photo']  # Products ids are sorted in a list, but they start from 1 not from 0.  # This completly wrong, as based on false assumption\n",
    "        pair_id = pair_id_mapping[product_id]\n",
    "    \n",
    "        all_annos.append(create_annotations(anno_id=anno_id, image_id=photo_id, category_id=idx, bbox=bbox, pair_id=pair_id, style=style_idx))\n",
    "        anno_id += 1\n",
    "        \n",
    "    for item in test_json:\n",
    "        photo_id = item.get('photo')\n",
    "        bbox_temp = item.get('bbox')\n",
    "        bbox = [bbox_temp['left'], bbox_temp['top'], bbox_temp['width'], bbox_temp['height']]\n",
    "        \n",
    "        product_id = item['product']\n",
    "#         pair_id = retrival_json[product_id+1]['photo']  # Products ids are sorted in a list, but they start from 1 not from 0.\n",
    "        pair_id = pair_id_mapping[product_id]\n",
    "    \n",
    "        all_annos.append(create_annotations(anno_id=anno_id, image_id=photo_id, category_id=idx, bbox=bbox, pair_id=pair_id, style=style_idx))\n",
    "        anno_id += 1\n",
    "print(f'Number of all annotations from the original dataset: {len(all_annos)}')\n",
    "#     break"
   ]
  },
  {
   "cell_type": "code",
   "execution_count": 86,
   "metadata": {},
   "outputs": [
    {
     "data": {
      "text/plain": [
       "175165"
      ]
     },
     "execution_count": 86,
     "metadata": {},
     "output_type": "execute_result"
    }
   ],
   "source": [
    "pair_id_mapping[9316]"
   ]
  },
  {
   "cell_type": "code",
   "execution_count": 91,
   "metadata": {},
   "outputs": [
    {
     "data": {
      "text/plain": [
       "[{'id': 36330,\n",
       "  'image_id': 17399,\n",
       "  'category_id': 10,\n",
       "  'segmentation': '',\n",
       "  'area': 0,\n",
       "  'bbox': [682, 887, 751, 772],\n",
       "  'iscrowd': 0,\n",
       "  'pair_id': 175165,\n",
       "  'style': 11},\n",
       " {'id': 392093,\n",
       "  'image_id': 90071,\n",
       "  'category_id': 10,\n",
       "  'segmentation': '',\n",
       "  'area': 0,\n",
       "  'bbox': '',\n",
       "  'iscrowd': 0,\n",
       "  'pair_id': 175165,\n",
       "  'style': 11},\n",
       " {'id': 392094,\n",
       "  'image_id': 90072,\n",
       "  'category_id': 10,\n",
       "  'segmentation': '',\n",
       "  'area': 0,\n",
       "  'bbox': '',\n",
       "  'iscrowd': 0,\n",
       "  'pair_id': 175165,\n",
       "  'style': 11},\n",
       " {'id': 392095,\n",
       "  'image_id': 90073,\n",
       "  'category_id': 10,\n",
       "  'segmentation': '',\n",
       "  'area': 0,\n",
       "  'bbox': '',\n",
       "  'iscrowd': 0,\n",
       "  'pair_id': 175165,\n",
       "  'style': 11},\n",
       " {'id': 392096,\n",
       "  'image_id': 90074,\n",
       "  'category_id': 10,\n",
       "  'segmentation': '',\n",
       "  'area': 0,\n",
       "  'bbox': '',\n",
       "  'iscrowd': 0,\n",
       "  'pair_id': 175165,\n",
       "  'style': 11}]"
      ]
     },
     "execution_count": 91,
     "metadata": {},
     "output_type": "execute_result"
    }
   ],
   "source": [
    "[item for item in all_annos if item['pair_id'] == 175165]"
   ]
  },
  {
   "cell_type": "markdown",
   "metadata": {},
   "source": [
    "#### Trying to continue the annotations also for shop-taken images"
   ]
  },
  {
   "cell_type": "code",
   "execution_count": 89,
   "metadata": {},
   "outputs": [],
   "source": [
    "# all_annos = []\n",
    "\n",
    "for idx, category_name in enumerate(category_name_id_map):\n",
    "    style_idx = idx + 1\n",
    "    \n",
    "#     train_json = load_json(os.path.join(data_dir,f'train_pairs_{category_name}.json'))\n",
    "#     test_json = load_json(os.path.join(data_dir,f'test_pairs_{category_name}.json'))\n",
    "    retrival_json = load_json(os.path.join(data_dir,f'retrieval_{category_name}.json'))\n",
    "    \n",
    "#     retrival_dict_inverse = [{v:k for k,v in item.items()} for item in retrival_json]\n",
    "    pair_id_mapping = category_name_product_id_unique_pair_id_map[category_name]  # Maps orignal product id to the new unique pair_id\n",
    "    \n",
    "    for item in retrival_json:\n",
    "        photo_id = item.get('photo')\n",
    "        product_id = item['product']\n",
    "#         pair_id = retrival_json[product_id+1]['photo']  # Products ids are sorted in a list, but they start from 1 not from 0.\n",
    "        pair_id = pair_id_mapping[product_id]\n",
    "    \n",
    "        all_annos.append(create_annotations(anno_id=anno_id, image_id=photo_id, category_id=idx, bbox='', pair_id=pair_id, style=style_idx))\n",
    "        \n",
    "        anno_id += 1"
   ]
  },
  {
   "cell_type": "code",
   "execution_count": 90,
   "metadata": {},
   "outputs": [
    {
     "name": "stdout",
     "output_type": "stream",
     "text": [
      "Number of all annotations including pack shots from stores: 444163\n"
     ]
    }
   ],
   "source": [
    "print(f'Number of all annotations including pack shots from stores: {len(all_annos)}')"
   ]
  },
  {
   "cell_type": "markdown",
   "metadata": {},
   "source": [
    "# All category at once end ^^^"
   ]
  },
  {
   "cell_type": "code",
   "execution_count": 97,
   "metadata": {},
   "outputs": [],
   "source": [
    "images_paths_list = [item['file_name'] for item in all_image_info]"
   ]
  },
  {
   "cell_type": "code",
   "execution_count": 110,
   "metadata": {},
   "outputs": [],
   "source": [
    "existing_images_list = []\n",
    "non_exisiting_images_list = []"
   ]
  },
  {
   "cell_type": "code",
   "execution_count": 111,
   "metadata": {},
   "outputs": [
    {
     "name": "stdout",
     "output_type": "stream",
     "text": [
      "Number of exisiting images in JSON: 377120\n",
      "Number of non-exisiting images in JSON: 0\n"
     ]
    }
   ],
   "source": [
    "for img in images_paths_list:\n",
    "    img = os.path.join(images_dir, img)\n",
    "    if os.path.exists(img):\n",
    "        existing_images_list.append(img)\n",
    "    else:\n",
    "        non_exisiting_images_list.append(img)\n",
    "#         print(f'Image does not exisit {img}')\n",
    "print(f'Number of exisiting images in JSON: {len(existing_images_list)}')\n",
    "print(f'Number of non-exisiting images in JSON: {len(non_exisiting_images_list)}')"
   ]
  },
  {
   "cell_type": "code",
   "execution_count": 114,
   "metadata": {},
   "outputs": [
    {
     "name": "stderr",
     "output_type": "stream",
     "text": [
      "/home/mwieczorek/miniconda3/envs/visual_search/lib/python3.7/site-packages/PIL/Image.py:2735: DecompressionBombWarning: Image size (99272481 pixels) exceeds limit of 89478485 pixels, could be decompression bomb DOS attack.\n",
      "  DecompressionBombWarning,\n",
      "/home/mwieczorek/miniconda3/envs/visual_search/lib/python3.7/site-packages/PIL/Image.py:2735: DecompressionBombWarning: Image size (109820000 pixels) exceeds limit of 89478485 pixels, could be decompression bomb DOS attack.\n",
      "  DecompressionBombWarning,\n",
      "/home/mwieczorek/miniconda3/envs/visual_search/lib/python3.7/site-packages/PIL/Image.py:2735: DecompressionBombWarning: Image size (123871510 pixels) exceeds limit of 89478485 pixels, could be decompression bomb DOS attack.\n",
      "  DecompressionBombWarning,\n"
     ]
    }
   ],
   "source": [
    "grey_scale_images_to_remove = []\n",
    "for path in existng_images_list:\n",
    "    from PIL import Image\n",
    "#     path = os.path.splitext(path)[0] + '.jpg'\n",
    "    img = Image.open(path)\n",
    "    if img.mode == 'L':\n",
    "#         print(path)\n",
    "        grey_scale_images_to_remove.append(path)"
   ]
  },
  {
   "cell_type": "code",
   "execution_count": 115,
   "metadata": {},
   "outputs": [
    {
     "data": {
      "text/plain": [
       "['/mnt/mwieczorek/street2shop/images/000164016.jpg',\n",
       " '/mnt/mwieczorek/street2shop/images/000162376.jpg',\n",
       " '/mnt/mwieczorek/street2shop/images/000176610.jpg',\n",
       " '/mnt/mwieczorek/street2shop/images/000336431.jpg',\n",
       " '/mnt/mwieczorek/street2shop/images/000164015.jpg',\n",
       " '/mnt/mwieczorek/street2shop/images/000211918.jpg',\n",
       " '/mnt/mwieczorek/street2shop/images/000163625.jpg',\n",
       " '/mnt/mwieczorek/street2shop/images/000164529.jpg',\n",
       " '/mnt/mwieczorek/street2shop/images/000163668.jpg',\n",
       " '/mnt/mwieczorek/street2shop/images/000164466.jpg']"
      ]
     },
     "execution_count": 115,
     "metadata": {},
     "output_type": "execute_result"
    }
   ],
   "source": [
    "grey_scale_images_to_remove"
   ]
  },
  {
   "cell_type": "code",
   "execution_count": 21,
   "metadata": {},
   "outputs": [],
   "source": [
    "for filename in grey_scale_images_to_remove:\n",
    "    filename = os.path.splitext(filename)[0]\n",
    "    filename_txt = filename + '.txt'\n",
    "    filename_img = filename + '.jpg'\n",
    "    os.system(f'rm {filename_txt}')\n",
    "    os.system(f'rm {filename_img}')"
   ]
  },
  {
   "cell_type": "code",
   "execution_count": null,
   "metadata": {},
   "outputs": [],
   "source": [
    "## "
   ]
  },
  {
   "cell_type": "markdown",
   "metadata": {},
   "source": [
    "### Bboxes processing"
   ]
  },
  {
   "cell_type": "code",
   "execution_count": 22,
   "metadata": {},
   "outputs": [],
   "source": [
    "categories_list = []\n",
    "for item in train_jsons_list:\n",
    "    categories_list.append(os.path.basename(item).split('.')[0].split('_')[-1])\n",
    "\n",
    "labels = [1, 2, 6, 7, 4, 12, 14, 5, 8, 11, 9]\n",
    "\n",
    "categories = dict(zip(categories_list, labels))"
   ]
  },
  {
   "cell_type": "code",
   "execution_count": 23,
   "metadata": {},
   "outputs": [
    {
     "data": {
      "text/plain": [
       "{'bags': 1,\n",
       " 'belts': 2,\n",
       " 'dresses': 6,\n",
       " 'eyewear': 7,\n",
       " 'footwear': 4,\n",
       " 'hats': 12,\n",
       " 'leggings': 14,\n",
       " 'outerwear': 5,\n",
       " 'pants': 8,\n",
       " 'skirts': 11,\n",
       " 'tops': 9}"
      ]
     },
     "execution_count": 23,
     "metadata": {},
     "output_type": "execute_result"
    }
   ],
   "source": [
    "categories"
   ]
  },
  {
   "cell_type": "code",
   "execution_count": 24,
   "metadata": {},
   "outputs": [],
   "source": [
    "annotations = {}\n",
    "json_sub_list = [train_jsons_list, test_jsons_list]\n",
    "data_type = ['train', 'test']\n",
    "missing_images = []"
   ]
  },
  {
   "cell_type": "code",
   "execution_count": 25,
   "metadata": {},
   "outputs": [
    {
     "name": "stdout",
     "output_type": "stream",
     "text": [
      "/home/mwieczorek/visual_search/yolo/data/street2shop/meta/train_pairs_bags.json\n",
      "Category_name bags, category label 1\n",
      "/home/mwieczorek/visual_search/yolo/data/street2shop/meta/train_pairs_belts.json\n",
      "Category_name belts, category label 2\n",
      "/home/mwieczorek/visual_search/yolo/data/street2shop/meta/train_pairs_dresses.json\n",
      "Category_name dresses, category label 6\n",
      "/home/mwieczorek/visual_search/yolo/data/street2shop/meta/train_pairs_eyewear.json\n",
      "Category_name eyewear, category label 7\n",
      "/home/mwieczorek/visual_search/yolo/data/street2shop/meta/train_pairs_footwear.json\n",
      "Category_name footwear, category label 4\n",
      "/home/mwieczorek/visual_search/yolo/data/street2shop/meta/train_pairs_hats.json\n",
      "Category_name hats, category label 12\n",
      "/home/mwieczorek/visual_search/yolo/data/street2shop/meta/train_pairs_leggings.json\n",
      "Category_name leggings, category label 14\n",
      "/home/mwieczorek/visual_search/yolo/data/street2shop/meta/train_pairs_outerwear.json\n",
      "Category_name outerwear, category label 5\n",
      "/home/mwieczorek/visual_search/yolo/data/street2shop/meta/train_pairs_pants.json\n",
      "Category_name pants, category label 8\n",
      "/home/mwieczorek/visual_search/yolo/data/street2shop/meta/train_pairs_skirts.json\n",
      "Category_name skirts, category label 11\n",
      "/home/mwieczorek/visual_search/yolo/data/street2shop/meta/train_pairs_tops.json\n",
      "Category_name tops, category label 9\n",
      "/home/mwieczorek/visual_search/yolo/data/street2shop/meta/test_pairs_bags.json\n",
      "Category_name bags, category label 1\n",
      "/home/mwieczorek/visual_search/yolo/data/street2shop/meta/test_pairs_belts.json\n",
      "Category_name belts, category label 2\n",
      "/home/mwieczorek/visual_search/yolo/data/street2shop/meta/test_pairs_dresses.json\n",
      "Category_name dresses, category label 6\n",
      "/home/mwieczorek/visual_search/yolo/data/street2shop/meta/test_pairs_eyewear.json\n",
      "Category_name eyewear, category label 7\n",
      "/home/mwieczorek/visual_search/yolo/data/street2shop/meta/test_pairs_footwear.json\n",
      "Category_name footwear, category label 4\n",
      "/home/mwieczorek/visual_search/yolo/data/street2shop/meta/test_pairs_hats.json\n",
      "Category_name hats, category label 12\n",
      "/home/mwieczorek/visual_search/yolo/data/street2shop/meta/test_pairs_leggings.json\n",
      "Category_name leggings, category label 14\n",
      "/home/mwieczorek/visual_search/yolo/data/street2shop/meta/test_pairs_outerwear.json\n",
      "Category_name outerwear, category label 5\n",
      "/home/mwieczorek/visual_search/yolo/data/street2shop/meta/test_pairs_pants.json\n",
      "Category_name pants, category label 8\n",
      "/home/mwieczorek/visual_search/yolo/data/street2shop/meta/test_pairs_skirts.json\n",
      "Category_name skirts, category label 11\n",
      "/home/mwieczorek/visual_search/yolo/data/street2shop/meta/test_pairs_tops.json\n",
      "Category_name tops, category label 9\n"
     ]
    }
   ],
   "source": [
    "for idx, file in enumerate(json_sub_list):\n",
    "    dataset_type = data_type[idx]\n",
    "#     print(file)\n",
    "    temp_list = []\n",
    "    for jsonn_path in file:\n",
    "        print(jsonn_path)\n",
    "        jsonn = load_json(jsonn_path)\n",
    "        category_name = os.path.basename(jsonn_path).split('.')[0].split('_')[-1]\n",
    "        category = categories[category_name]\n",
    "        print(f'Category_name {category_name}, category label {category}')\n",
    "        \n",
    "        for item in jsonn:\n",
    "            photo_id = item.get('photo')\n",
    "            bbox_temp = item.get('bbox')\n",
    "\n",
    "            bbox = [bbox_temp['left'], bbox_temp['top'], bbox_temp['width'], bbox_temp['height']]\n",
    "            \n",
    "            img_path = os.path.join(images_dir, str(photo_id).zfill(9) + '.jpg')\n",
    "            try:\n",
    "                image_size = Image.open(img_path).size\n",
    "            except:\n",
    "#                 print(f'Image {photo_id} not found')\n",
    "                missing_images.append(str(photo_id).zfill(9))\n",
    "                continue\n",
    "        \n",
    "            bbox = bbox_coco_to_yolo(bbox=bbox, width=image_size[0], height=image_size[1])\n",
    "            \n",
    "            with open(os.path.join(images_dir, str(photo_id).zfill(9) + '.txt'), 'a') as f:\n",
    "                f.write('{} {} {} {} {} \\n'.format(category, *bbox))"
   ]
  },
  {
   "cell_type": "code",
   "execution_count": 26,
   "metadata": {},
   "outputs": [],
   "source": [
    "np.save(os.path.join(data_dir, 'missing_images_ids.npy'), missing_images)"
   ]
  },
  {
   "cell_type": "markdown",
   "metadata": {},
   "source": [
    "### Checking correctness of bboxes "
   ]
  },
  {
   "cell_type": "code",
   "execution_count": 18,
   "metadata": {},
   "outputs": [],
   "source": [
    "def load_image(img_path):\n",
    "    return Image.open(img_path)\n",
    "\n",
    "\n",
    "def draw_bboxes_on_image(image, all_bboxes):\n",
    "    draw = ImageDraw.Draw(image)\n",
    "    try:\n",
    "        len(all_bboxes[0])\n",
    "        for bbox in all_bboxes:\n",
    "            bbox = bbox_coco_to_corners(bbox)\n",
    "            draw.rectangle(bbox)\n",
    "    except:\n",
    "        bbox = bbox_coco_to_corners(all_bboxes)\n",
    "        draw.rectangle(bbox)\n",
    "    return image\n",
    "\n",
    "def load_image_and_draw_bbox(img_path, all_bboxes):\n",
    "    image = load_image(img_path=img_path)\n",
    "    return draw_bboxes_on_image(image, all_bboxes)"
   ]
  },
  {
   "cell_type": "code",
   "execution_count": 19,
   "metadata": {},
   "outputs": [
    {
     "ename": "FileNotFoundError",
     "evalue": "[Errno 2] No such file or directory: '/home/mwieczorek/data/street2shop/meta/street2shop_all_coco_format'",
     "output_type": "error",
     "traceback": [
      "\u001b[0;31m---------------------------------------------------------------------------\u001b[0m",
      "\u001b[0;31mFileNotFoundError\u001b[0m                         Traceback (most recent call last)",
      "\u001b[0;32m<ipython-input-19-45ac696fb10f>\u001b[0m in \u001b[0;36m<module>\u001b[0;34m\u001b[0m\n\u001b[0;32m----> 1\u001b[0;31m \u001b[0;32mwith\u001b[0m \u001b[0mopen\u001b[0m\u001b[0;34m(\u001b[0m\u001b[0mos\u001b[0m\u001b[0;34m.\u001b[0m\u001b[0mpath\u001b[0m\u001b[0;34m.\u001b[0m\u001b[0mjoin\u001b[0m\u001b[0;34m(\u001b[0m\u001b[0mdata_dir\u001b[0m\u001b[0;34m,\u001b[0m \u001b[0mtrain_all_filename\u001b[0m\u001b[0;34m)\u001b[0m\u001b[0;34m,\u001b[0m \u001b[0;34m'r'\u001b[0m\u001b[0;34m)\u001b[0m \u001b[0;32mas\u001b[0m \u001b[0mf\u001b[0m\u001b[0;34m:\u001b[0m\u001b[0;34m\u001b[0m\u001b[0;34m\u001b[0m\u001b[0m\n\u001b[0m\u001b[1;32m      2\u001b[0m     \u001b[0mlines\u001b[0m \u001b[0;34m=\u001b[0m \u001b[0mf\u001b[0m\u001b[0;34m.\u001b[0m\u001b[0mreadlines\u001b[0m\u001b[0;34m(\u001b[0m\u001b[0;34m)\u001b[0m\u001b[0;34m\u001b[0m\u001b[0;34m\u001b[0m\u001b[0m\n\u001b[1;32m      3\u001b[0m     \u001b[0mlines\u001b[0m \u001b[0;34m=\u001b[0m \u001b[0;34m[\u001b[0m\u001b[0mitem\u001b[0m\u001b[0;34m.\u001b[0m\u001b[0mstrip\u001b[0m\u001b[0;34m(\u001b[0m\u001b[0;34m)\u001b[0m \u001b[0;32mfor\u001b[0m \u001b[0mitem\u001b[0m \u001b[0;32min\u001b[0m \u001b[0mlines\u001b[0m\u001b[0;34m]\u001b[0m\u001b[0;34m\u001b[0m\u001b[0;34m\u001b[0m\u001b[0m\n",
      "\u001b[0;31mFileNotFoundError\u001b[0m: [Errno 2] No such file or directory: '/home/mwieczorek/data/street2shop/meta/street2shop_all_coco_format'"
     ]
    }
   ],
   "source": [
    "with open(os.path.join(data_dir, train_all_filename), 'r') as f:\n",
    "    lines = f.readlines()\n",
    "    lines = [item.strip() for item in lines]"
   ]
  },
  {
   "cell_type": "code",
   "execution_count": 29,
   "metadata": {},
   "outputs": [],
   "source": [
    "all_street_images_paths = lines"
   ]
  },
  {
   "cell_type": "code",
   "execution_count": 30,
   "metadata": {},
   "outputs": [],
   "source": [
    "img_id = 213  # from 0 to len(all_street_images_paths)-1 \n",
    "\n",
    "image_to_plot_path = all_street_images_paths[img_id].replace('txt', 'jpg')\n",
    "\n",
    "image_annotation_filename = os.path.basename(image_to_plot_path).rstrip('.jpg') + '.txt'\n",
    "\n",
    "image_annotation_path = os.path.join(images_dir, image_annotation_filename)\n",
    "\n",
    "with open(image_annotation_path) as f:\n",
    "    annos = f.readlines()\n",
    "    annos = [item.strip() for item in annos]\n",
    "    annos = [item.split(' ') for item in annos]\n",
    "\n",
    "bbox = [item[1:] for item in annos]\n",
    "bbox = [[float(item) for item in listt] for listt in bbox]\n",
    "category = [item[0] for item in annos]\n",
    "\n",
    "# # Checking if there is any annotation about skirt for the image 000002281.jpg.\n",
    "# # Checked both train and test, but nothing was found\n",
    "# json_check = load_json(os.path.join(data_dir, 'train_pairs_dresses.json'))\n",
    "# photo_id = image_annotation_filename.lstrip('0').rstrip('.txt')\n",
    "# for idx, item in enumerate(json_check):\n",
    "#     if str(item['photo']) == photo_id:\n",
    "#         print(idx)\n",
    "\n",
    "\n",
    "\n",
    "image = Image.open(image_to_plot_path)\n",
    "image_size = image.size\n",
    "\n",
    "bboxes = []\n",
    "for item in bbox:\n",
    "    bboxes.append(bbox_coco_to_corners(bbox_yolo_to_coco(bbox=item, width=image_size[0], height=image_size[1])))\n",
    "\n",
    "bboxes_to_plot  = []\n",
    "for bbox in bboxes:\n",
    "    x1,y1,x2,y2 = bbox\n",
    "    bboxes_to_plot.append([y1,x1,y2,x2])\n",
    "\n",
    "bbox_plot = np.array(bboxes_to_plot)\n",
    "category_plot = np.array(category)\n",
    "image_array = np.array(image)"
   ]
  },
  {
   "cell_type": "code",
   "execution_count": 31,
   "metadata": {},
   "outputs": [
    {
     "data": {
      "image/png": "[encoded data removed]",
      "text/plain": [
       "<Figure size 864x864 with 1 Axes>"
      ]
     },
     "metadata": {
      "needs_background": "light"
     },
     "output_type": "display_data"
    }
   ],
   "source": [
    "visualize.draw_boxes(image=image_array, boxes=None, refined_boxes=bbox_plot,\n",
    "               masks=None, captions=category_plot, visibilities=None,\n",
    "               title=\"\", ax=None)"
   ]
  },
  {
   "cell_type": "code",
   "execution_count": null,
   "metadata": {},
   "outputs": [],
   "source": []
  }
 ],
 "metadata": {
  "kernelspec": {
   "display_name": "Python [conda env:root] *",
   "language": "python",
   "name": "conda-root-py"
  },
  "language_info": {
   "codemirror_mode": {
    "name": "ipython",
    "version": 3
   },
   "file_extension": ".py",
   "mimetype": "text/x-python",
   "name": "python",
   "nbconvert_exporter": "python",
   "pygments_lexer": "ipython3",
   "version": "3.7.4"
  }
 },
 "nbformat": 4,
 "nbformat_minor": 4
}
