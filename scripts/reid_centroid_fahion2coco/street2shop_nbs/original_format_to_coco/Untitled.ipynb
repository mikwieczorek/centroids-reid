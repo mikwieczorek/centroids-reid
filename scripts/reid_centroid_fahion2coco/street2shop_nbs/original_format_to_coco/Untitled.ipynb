{
 "cells": [
  {
   "cell_type": "code",
   "execution_count": 1,
   "metadata": {},
   "outputs": [],
   "source": [
    "import glob\n",
    "import os.path as osp\n",
    "import numpy as npa\n",
    "import os\n",
    "import shutil\n",
    "import json\n",
    "\n",
    "import visualize\n",
    "from PIL import Image\n",
    "import numpy as np\n",
    "import copy"
   ]
  },
  {
   "cell_type": "code",
   "execution_count": 2,
   "metadata": {},
   "outputs": [],
   "source": [
    "def load_json(json_abs_path):\n",
    "    return json.load(open(json_abs_path))"
   ]
  },
  {
   "cell_type": "code",
   "execution_count": 3,
   "metadata": {},
   "outputs": [],
   "source": [
    "IMAGES_ORG_PATH = '/data/mwieczorek/home/data/street2shop/images/'\n",
    "exisiting_images_in_dir = os.listdir(IMAGES_ORG_PATH)"
   ]
  },
  {
   "cell_type": "code",
   "execution_count": 4,
   "metadata": {},
   "outputs": [
    {
     "data": {
      "text/plain": [
       "16832"
      ]
     },
     "execution_count": 4,
     "metadata": {},
     "output_type": "execute_result"
    }
   ],
   "source": [
    "len(exisiting_images_in_dir)"
   ]
  },
  {
   "cell_type": "markdown",
   "metadata": {},
   "source": [
    "#### Old file"
   ]
  },
  {
   "cell_type": "code",
   "execution_count": 5,
   "metadata": {},
   "outputs": [],
   "source": [
    "# This file only contains images and annotations of street photos.\n",
    "train_json_coco = json.load(open('/data/mwieczorek/home/data/street2shop/all_street_train.json', 'r'))\n",
    "all_json = copy.deepcopy(train_json_coco)"
   ]
  },
  {
   "cell_type": "code",
   "execution_count": 6,
   "metadata": {},
   "outputs": [
    {
     "data": {
      "text/plain": [
       "dict_keys(['info', 'images', 'annotations', 'categories', 'licenses'])"
      ]
     },
     "execution_count": 6,
     "metadata": {},
     "output_type": "execute_result"
    }
   ],
   "source": [
    "train_json_coco.keys()"
   ]
  },
  {
   "cell_type": "code",
   "execution_count": 7,
   "metadata": {},
   "outputs": [
    {
     "data": {
      "text/plain": [
       "[{'id': '/home/mwieczorek/visual_search/yolo/data/street2shop/images/000013294',\n",
       "  'file_name': '/home/mwieczorek/visual_search/yolo/data/street2shop/images/000013294.jpg',\n",
       "  'width': 790,\n",
       "  'height': 1534,\n",
       "  'license': 0,\n",
       "  'flickr_url': '',\n",
       "  'coco_url': '',\n",
       "  'date_captured': ''},\n",
       " {'id': '/home/mwieczorek/visual_search/yolo/data/street2shop/images/000015042',\n",
       "  'file_name': '/home/mwieczorek/visual_search/yolo/data/street2shop/images/000015042.jpg',\n",
       "  'width': 2448,\n",
       "  'height': 3264,\n",
       "  'license': 0,\n",
       "  'flickr_url': '',\n",
       "  'coco_url': '',\n",
       "  'date_captured': ''}]"
      ]
     },
     "execution_count": 7,
     "metadata": {},
     "output_type": "execute_result"
    }
   ],
   "source": [
    "train_json_coco['images'][:2]"
   ]
  },
  {
   "cell_type": "code",
   "execution_count": 8,
   "metadata": {},
   "outputs": [
    {
     "data": {
      "text/plain": [
       "[{'id': 0,\n",
       "  'image_id': 2281,\n",
       "  'category_id': 1,\n",
       "  'segmentation': '',\n",
       "  'area': '',\n",
       "  'bbox': [59, 335, 112, 204],\n",
       "  'iscrowd': 0},\n",
       " {'id': 1,\n",
       "  'image_id': 15566,\n",
       "  'category_id': 1,\n",
       "  'segmentation': '',\n",
       "  'area': '',\n",
       "  'bbox': [939, 1685, 253, 322],\n",
       "  'iscrowd': 0}]"
      ]
     },
     "execution_count": 8,
     "metadata": {},
     "output_type": "execute_result"
    }
   ],
   "source": [
    "train_json_coco['annotations'][:2]"
   ]
  },
  {
   "cell_type": "markdown",
   "metadata": {},
   "source": [
    "### New file"
   ]
  },
  {
   "cell_type": "code",
   "execution_count": 9,
   "metadata": {},
   "outputs": [],
   "source": [
    "# This file only contains images and annotations of street photos.\n",
    "train_json_coco = json.load(open('/data/mwieczorek/home/data/street2shop/new_meta_test/all_street_train.json', 'r'))\n",
    "all_json = copy.deepcopy(train_json_coco)"
   ]
  },
  {
   "cell_type": "code",
   "execution_count": 10,
   "metadata": {},
   "outputs": [
    {
     "data": {
      "text/plain": [
       "dict_keys(['info', 'images', 'annotations', 'categories', 'licenses'])"
      ]
     },
     "execution_count": 10,
     "metadata": {},
     "output_type": "execute_result"
    }
   ],
   "source": [
    "train_json_coco.keys()"
   ]
  },
  {
   "cell_type": "code",
   "execution_count": 11,
   "metadata": {},
   "outputs": [
    {
     "data": {
      "text/plain": [
       "[{'id': '2281',\n",
       "  'file_name': '000002281.jpg',\n",
       "  'width': 1,\n",
       "  'height': 1,\n",
       "  'license': 0,\n",
       "  'flickr_url': '',\n",
       "  'coco_url': '',\n",
       "  'date_captured': ''},\n",
       " {'id': '15566',\n",
       "  'file_name': '000015566.jpg',\n",
       "  'width': 1,\n",
       "  'height': 1,\n",
       "  'license': 0,\n",
       "  'flickr_url': '',\n",
       "  'coco_url': '',\n",
       "  'date_captured': ''}]"
      ]
     },
     "execution_count": 11,
     "metadata": {},
     "output_type": "execute_result"
    }
   ],
   "source": [
    "train_json_coco['images'][:2]"
   ]
  },
  {
   "cell_type": "code",
   "execution_count": 12,
   "metadata": {},
   "outputs": [
    {
     "data": {
      "text/plain": [
       "[{'id': 0,\n",
       "  'image_id': 2281,\n",
       "  'category_id': 0,\n",
       "  'segmentation': '',\n",
       "  'area': '',\n",
       "  'bbox': [59, 335, 112, 204],\n",
       "  'iscrowd': 0},\n",
       " {'id': 1,\n",
       "  'image_id': 15566,\n",
       "  'category_id': 0,\n",
       "  'segmentation': '',\n",
       "  'area': '',\n",
       "  'bbox': [939, 1685, 253, 322],\n",
       "  'iscrowd': 0}]"
      ]
     },
     "execution_count": 12,
     "metadata": {},
     "output_type": "execute_result"
    }
   ],
   "source": [
    "train_json_coco['annotations'][:2]"
   ]
  },
  {
   "cell_type": "code",
   "execution_count": null,
   "metadata": {},
   "outputs": [],
   "source": []
  }
 ],
 "metadata": {
  "kernelspec": {
   "display_name": "Python [conda env:reid]",
   "language": "python",
   "name": "conda-env-reid-py"
  },
  "language_info": {
   "codemirror_mode": {
    "name": "ipython",
    "version": 3
   },
   "file_extension": ".py",
   "mimetype": "text/x-python",
   "name": "python",
   "nbconvert_exporter": "python",
   "pygments_lexer": "ipython3",
   "version": "3.7.11"
  }
 },
 "nbformat": 4,
 "nbformat_minor": 4
}
